{
 "cells": [
  {
   "cell_type": "code",
   "execution_count": 1,
   "id": "278cf07f",
   "metadata": {},
   "outputs": [],
   "source": [
    "param = {'criterion': 'gini', 'max_features': 'sqrt', 'min_samples_leaf': 2, 'min_samples_split': 5, 'min_weight_fraction_leaf': 0}"
   ]
  },
  {
   "cell_type": "code",
   "execution_count": 2,
   "id": "cc5e081d",
   "metadata": {},
   "outputs": [
    {
     "data": {
      "text/plain": [
       "{'criterion': 'gini',\n",
       " 'max_features': 'sqrt',\n",
       " 'min_samples_leaf': 2,\n",
       " 'min_samples_split': 5,\n",
       " 'min_weight_fraction_leaf': 0}"
      ]
     },
     "execution_count": 2,
     "metadata": {},
     "output_type": "execute_result"
    }
   ],
   "source": [
    "param"
   ]
  },
  {
   "cell_type": "code",
   "execution_count": 5,
   "id": "33f0781b",
   "metadata": {},
   "outputs": [],
   "source": [
    "from sklearn import tree\n",
    "import numpy as np\n",
    "import sklearn\n",
    "import pandas as pd"
   ]
  },
  {
   "cell_type": "code",
   "execution_count": 6,
   "id": "ec1dabb3",
   "metadata": {},
   "outputs": [
    {
     "name": "stderr",
     "output_type": "stream",
     "text": [
      "/var/folders/zd/7g_t0tm57rb0_l5_prv_0kww0000gn/T/ipykernel_47391/1424043466.py:9: SettingWithCopyWarning: \n",
      "A value is trying to be set on a copy of a slice from a DataFrame\n",
      "\n",
      "See the caveats in the documentation: https://pandas.pydata.org/pandas-docs/stable/user_guide/indexing.html#returning-a-view-versus-a-copy\n",
      "  D_target.loc[(D_target == \"CL1\") | (D_target == \"CL0\")] = 0\n",
      "/var/folders/zd/7g_t0tm57rb0_l5_prv_0kww0000gn/T/ipykernel_47391/1424043466.py:10: SettingWithCopyWarning: \n",
      "A value is trying to be set on a copy of a slice from a DataFrame\n",
      "\n",
      "See the caveats in the documentation: https://pandas.pydata.org/pandas-docs/stable/user_guide/indexing.html#returning-a-view-versus-a-copy\n",
      "  D_target.loc[D_target != 0] = 1\n"
     ]
    }
   ],
   "source": [
    "#Load the data\n",
    "data = pd.read_csv(\"data/drug_consumption.data\")\n",
    "D_input_cols = data.iloc[:, 0:13]\n",
    "# We are only concerned with 'Alcohol' Class\n",
    "D_target = data.iloc[:, 13]\n",
    "# D_input_cols and D_target together form the dataset D\n",
    "\n",
    "#Convert C1 (CL0) and C2 (CL1) to non-user (0) and all other classes to user (1)\n",
    "D_target.loc[(D_target == \"CL1\") | (D_target == \"CL0\")] = 0\n",
    "D_target.loc[D_target != 0] = 1\n",
    "\n",
    "#Convert to numpy.array\n",
    "D_target = np.array(D_target).astype('int')\n",
    "D_input_cols = np.array(D_input_cols)"
   ]
  },
  {
   "cell_type": "code",
   "execution_count": 7,
   "id": "621b745e",
   "metadata": {},
   "outputs": [],
   "source": [
    "from numpy import mean\n",
    "from numpy import std\n",
    "from sklearn.model_selection import cross_val_score\n",
    "from imblearn.over_sampling import (SMOTE, RandomOverSampler, ADASYN, SVMSMOTE)\n",
    "def get_sampler(name, params):\n",
    "    samplers= {\n",
    "        \"RandomOverSampler\": RandomOverSampler,\n",
    "        \"ADASYN\": ADASYN,\n",
    "        \"SVMSMOTE\": SVMSMOTE,\n",
    "        \"SMOTE\": SMOTE,\n",
    "    }\n",
    "    return samplers[name](**params)"
   ]
  },
  {
   "cell_type": "code",
   "execution_count": 9,
   "id": "f212f11c",
   "metadata": {},
   "outputs": [],
   "source": [
    "sampler = get_sampler(\"RandomOverSampler\", {\"sampling_strategy\": 0.9})\n",
    "\n",
    "DB1_X, DB1_y = sampler.fit_resample(D_input_cols, D_target)"
   ]
  },
  {
   "cell_type": "code",
   "execution_count": 11,
   "id": "ffffb430",
   "metadata": {},
   "outputs": [],
   "source": [
    "from sklearn.model_selection import train_test_split\n",
    "\n",
    "X_train, X_test, y_train, y_test = train_test_split(DB1_X,\\\n",
    "     DB1_y, test_size = 0.33, random_state = 5)"
   ]
  },
  {
   "cell_type": "code",
   "execution_count": 12,
   "id": "25ed5b3f",
   "metadata": {},
   "outputs": [],
   "source": [
    "cls = tree.DecisionTreeClassifier(**param)"
   ]
  },
  {
   "cell_type": "code",
   "execution_count": 13,
   "id": "58c299c0",
   "metadata": {},
   "outputs": [
    {
     "data": {
      "text/html": [
       "<style>#sk-container-id-1 {color: black;background-color: white;}#sk-container-id-1 pre{padding: 0;}#sk-container-id-1 div.sk-toggleable {background-color: white;}#sk-container-id-1 label.sk-toggleable__label {cursor: pointer;display: block;width: 100%;margin-bottom: 0;padding: 0.3em;box-sizing: border-box;text-align: center;}#sk-container-id-1 label.sk-toggleable__label-arrow:before {content: \"▸\";float: left;margin-right: 0.25em;color: #696969;}#sk-container-id-1 label.sk-toggleable__label-arrow:hover:before {color: black;}#sk-container-id-1 div.sk-estimator:hover label.sk-toggleable__label-arrow:before {color: black;}#sk-container-id-1 div.sk-toggleable__content {max-height: 0;max-width: 0;overflow: hidden;text-align: left;background-color: #f0f8ff;}#sk-container-id-1 div.sk-toggleable__content pre {margin: 0.2em;color: black;border-radius: 0.25em;background-color: #f0f8ff;}#sk-container-id-1 input.sk-toggleable__control:checked~div.sk-toggleable__content {max-height: 200px;max-width: 100%;overflow: auto;}#sk-container-id-1 input.sk-toggleable__control:checked~label.sk-toggleable__label-arrow:before {content: \"▾\";}#sk-container-id-1 div.sk-estimator input.sk-toggleable__control:checked~label.sk-toggleable__label {background-color: #d4ebff;}#sk-container-id-1 div.sk-label input.sk-toggleable__control:checked~label.sk-toggleable__label {background-color: #d4ebff;}#sk-container-id-1 input.sk-hidden--visually {border: 0;clip: rect(1px 1px 1px 1px);clip: rect(1px, 1px, 1px, 1px);height: 1px;margin: -1px;overflow: hidden;padding: 0;position: absolute;width: 1px;}#sk-container-id-1 div.sk-estimator {font-family: monospace;background-color: #f0f8ff;border: 1px dotted black;border-radius: 0.25em;box-sizing: border-box;margin-bottom: 0.5em;}#sk-container-id-1 div.sk-estimator:hover {background-color: #d4ebff;}#sk-container-id-1 div.sk-parallel-item::after {content: \"\";width: 100%;border-bottom: 1px solid gray;flex-grow: 1;}#sk-container-id-1 div.sk-label:hover label.sk-toggleable__label {background-color: #d4ebff;}#sk-container-id-1 div.sk-serial::before {content: \"\";position: absolute;border-left: 1px solid gray;box-sizing: border-box;top: 0;bottom: 0;left: 50%;z-index: 0;}#sk-container-id-1 div.sk-serial {display: flex;flex-direction: column;align-items: center;background-color: white;padding-right: 0.2em;padding-left: 0.2em;position: relative;}#sk-container-id-1 div.sk-item {position: relative;z-index: 1;}#sk-container-id-1 div.sk-parallel {display: flex;align-items: stretch;justify-content: center;background-color: white;position: relative;}#sk-container-id-1 div.sk-item::before, #sk-container-id-1 div.sk-parallel-item::before {content: \"\";position: absolute;border-left: 1px solid gray;box-sizing: border-box;top: 0;bottom: 0;left: 50%;z-index: -1;}#sk-container-id-1 div.sk-parallel-item {display: flex;flex-direction: column;z-index: 1;position: relative;background-color: white;}#sk-container-id-1 div.sk-parallel-item:first-child::after {align-self: flex-end;width: 50%;}#sk-container-id-1 div.sk-parallel-item:last-child::after {align-self: flex-start;width: 50%;}#sk-container-id-1 div.sk-parallel-item:only-child::after {width: 0;}#sk-container-id-1 div.sk-dashed-wrapped {border: 1px dashed gray;margin: 0 0.4em 0.5em 0.4em;box-sizing: border-box;padding-bottom: 0.4em;background-color: white;}#sk-container-id-1 div.sk-label label {font-family: monospace;font-weight: bold;display: inline-block;line-height: 1.2em;}#sk-container-id-1 div.sk-label-container {text-align: center;}#sk-container-id-1 div.sk-container {/* jupyter's `normalize.less` sets `[hidden] { display: none; }` but bootstrap.min.css set `[hidden] { display: none !important; }` so we also need the `!important` here to be able to override the default hidden behavior on the sphinx rendered scikit-learn.org. See: https://github.com/scikit-learn/scikit-learn/issues/21755 */display: inline-block !important;position: relative;}#sk-container-id-1 div.sk-text-repr-fallback {display: none;}</style><div id=\"sk-container-id-1\" class=\"sk-top-container\"><div class=\"sk-text-repr-fallback\"><pre>DecisionTreeClassifier(max_features=&#x27;sqrt&#x27;, min_samples_leaf=2,\n",
       "                       min_samples_split=5, min_weight_fraction_leaf=0)</pre><b>In a Jupyter environment, please rerun this cell to show the HTML representation or trust the notebook. <br />On GitHub, the HTML representation is unable to render, please try loading this page with nbviewer.org.</b></div><div class=\"sk-container\" hidden><div class=\"sk-item\"><div class=\"sk-estimator sk-toggleable\"><input class=\"sk-toggleable__control sk-hidden--visually\" id=\"sk-estimator-id-1\" type=\"checkbox\" checked><label for=\"sk-estimator-id-1\" class=\"sk-toggleable__label sk-toggleable__label-arrow\">DecisionTreeClassifier</label><div class=\"sk-toggleable__content\"><pre>DecisionTreeClassifier(max_features=&#x27;sqrt&#x27;, min_samples_leaf=2,\n",
       "                       min_samples_split=5, min_weight_fraction_leaf=0)</pre></div></div></div></div></div>"
      ],
      "text/plain": [
       "DecisionTreeClassifier(max_features='sqrt', min_samples_leaf=2,\n",
       "                       min_samples_split=5, min_weight_fraction_leaf=0)"
      ]
     },
     "execution_count": 13,
     "metadata": {},
     "output_type": "execute_result"
    }
   ],
   "source": [
    "cls.fit(X_train, y_train)"
   ]
  },
  {
   "cell_type": "code",
   "execution_count": 14,
   "id": "09f38751",
   "metadata": {},
   "outputs": [
    {
     "data": {
      "text/plain": [
       "0.9913457377758547"
      ]
     },
     "execution_count": 14,
     "metadata": {},
     "output_type": "execute_result"
    }
   ],
   "source": [
    "cls.score(X_train, y_train)"
   ]
  },
  {
   "cell_type": "code",
   "execution_count": 15,
   "id": "c1fb350b",
   "metadata": {},
   "outputs": [
    {
     "data": {
      "text/plain": [
       "0.9604916593503073"
      ]
     },
     "execution_count": 15,
     "metadata": {},
     "output_type": "execute_result"
    }
   ],
   "source": [
    "cls.score(X_test, y_test)"
   ]
  },
  {
   "cell_type": "code",
   "execution_count": 20,
   "id": "34d7c082",
   "metadata": {},
   "outputs": [],
   "source": [
    "from sklearn.metrics import confusion_matrix\n",
    "from sklearn.metrics import ConfusionMatrixDisplay\n",
    "y_pred_train = cls.predict(X_train)\n",
    "y_pred_test = cls.predict(X_test)\n",
    "c_train = confusion_matrix(y_train, y_pred_train)\n",
    "c_test = confusion_matrix(y_test, y_pred_test)"
   ]
  },
  {
   "cell_type": "code",
   "execution_count": null,
   "id": "2b3804a8",
   "metadata": {},
   "outputs": [],
   "source": []
  },
  {
   "cell_type": "code",
   "execution_count": 24,
   "id": "c0443c3e",
   "metadata": {},
   "outputs": [
    {
     "data": {
      "text/plain": [
       "<sklearn.metrics._plot.confusion_matrix.ConfusionMatrixDisplay at 0x148cd3580>"
      ]
     },
     "execution_count": 24,
     "metadata": {},
     "output_type": "execute_result"
    },
    {
     "data": {
      "image/png": "[encoded data removed]",
      "text/plain": [
       "<Figure size 640x480 with 2 Axes>"
      ]
     },
     "metadata": {},
     "output_type": "display_data"
    }
   ],
   "source": [
    "ConfusionMatrixDisplay(confusion_matrix=c_test, display_labels=cls.classes_).plot()"
   ]
  },
  {
   "cell_type": "code",
   "execution_count": null,
   "id": "c58d459b",
   "metadata": {},
   "outputs": [],
   "source": []
  },
  {
   "cell_type": "code",
   "execution_count": null,
   "id": "5daec396",
   "metadata": {},
   "outputs": [],
   "source": []
  },
  {
   "cell_type": "code",
   "execution_count": 49,
   "id": "183cdb82",
   "metadata": {},
   "outputs": [],
   "source": [
    "from sklearn.metrics import precision_recall_fscore_support"
   ]
  },
  {
   "cell_type": "code",
   "execution_count": 53,
   "id": "56317b3c",
   "metadata": {},
   "outputs": [],
   "source": [
    "from sklearn.metrics import confusion_matrix\n",
    "from sklearn.metrics import ConfusionMatrixDisplay\n",
    "\n",
    "def get_confusion(cls, param, X_train, X_test, y_train, y_test):\n",
    "    cls = cls(**param)\n",
    "    cls.fit(X_train, y_train)\n",
    "    y_pred_train = cls.predict(X_train)\n",
    "    y_pred_test = cls.predict(X_test)\n",
    "    c_test = confusion_matrix(y_test, y_pred_test)\n",
    "    test_acc = cls.score(X_test, y_test)\n",
    "    train_acc = cls.score(X_train, y_train)\n",
    "    scores = precision_recall_fscore_support(y_test, y_pred_test, average=\"weighted\")\n",
    "    return c_test, cls, scores"
   ]
  },
  {
   "cell_type": "code",
   "execution_count": 54,
   "id": "ca1381e8",
   "metadata": {},
   "outputs": [],
   "source": [
    "param_knn = {'bootstrap': False, 'criterion': 'gini', 'max_depth': 7, 'max_features': 'sqrt', 'min_weight_fraction_leaf': 0.0, 'random_state': 0}"
   ]
  },
  {
   "cell_type": "code",
   "execution_count": 55,
   "id": "9df515f9",
   "metadata": {},
   "outputs": [],
   "source": [
    "from sklearn.ensemble import RandomForestClassifier\n",
    "\n",
    "cls = RandomForestClassifier\n",
    "cf, cls, score  = get_confusion(cls, param_knn, X_train, X_test, y_train, y_test)"
   ]
  },
  {
   "cell_type": "code",
   "execution_count": 56,
   "id": "b200ce1c",
   "metadata": {},
   "outputs": [
    {
     "data": {
      "text/plain": [
       "<sklearn.metrics._plot.confusion_matrix.ConfusionMatrixDisplay at 0x14f6e2b50>"
      ]
     },
     "execution_count": 56,
     "metadata": {},
     "output_type": "execute_result"
    },
    {
     "data": {
      "image/png": "[encoded data removed]",
      "text/plain": [
       "<Figure size 640x480 with 2 Axes>"
      ]
     },
     "metadata": {},
     "output_type": "display_data"
    }
   ],
   "source": [
    "ConfusionMatrixDisplay(confusion_matrix=cf, display_labels=cls.classes_).plot()"
   ]
  },
  {
   "cell_type": "code",
   "execution_count": 64,
   "id": "a087fb9d",
   "metadata": {},
   "outputs": [
    {
     "name": "stdout",
     "output_type": "stream",
     "text": [
      "Precision: 0.9806\n",
      "Recall: 0.9798\n",
      "Fscore: 0.9798\n"
     ]
    }
   ],
   "source": [
    "print(f\"Precision: {score[0]:.4f}\\nRecall: {score[1]:.4f}\\nFscore: {score[2]:.4f}\")"
   ]
  },
  {
   "cell_type": "code",
   "execution_count": null,
   "id": "dbea9e3c",
   "metadata": {},
   "outputs": [],
   "source": []
  }
 ],
 "metadata": {
  "kernelspec": {
   "display_name": "Python 3 (ipykernel)",
   "language": "python",
   "name": "python3"
  },
  "language_info": {
   "codemirror_mode": {
    "name": "ipython",
    "version": 3
   },
   "file_extension": ".py",
   "mimetype": "text/x-python",
   "name": "python",
   "nbconvert_exporter": "python",
   "pygments_lexer": "ipython3",
   "version": "3.8.13"
  }
 },
 "nbformat": 4,
 "nbformat_minor": 5
}
